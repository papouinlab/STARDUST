{
 "cells": [
  {
   "cell_type": "markdown",
   "id": "0e99a3af",
   "metadata": {},
   "source": [
    "# STARDUST interactive"
   ]
  },
  {
   "cell_type": "markdown",
   "id": "5fbf5599",
   "metadata": {},
   "source": [
    "This Jupyter Notebook provides an interactive version of STARDUST signal extraction. Functions are defined and imported from util.py. Use help() to see the documentation. For a more detailed description of the STARDUST pipeline, please see the biorxiv paper and github page for more information. "
   ]
  },
  {
   "cell_type": "markdown",
   "id": "99772211",
   "metadata": {},
   "source": [
    "## 1. Environment set up"
   ]
  },
  {
   "cell_type": "code",
   "execution_count": null,
   "id": "8e6ada0b",
   "metadata": {
    "scrolled": true
   },
   "outputs": [],
   "source": [
    "import os, scipy, sys, pandas as pd, numpy as np, seaborn as sns, matplotlib.pyplot as plt\n",
    "from src.STARDUST.util import * "
   ]
  },
  {
   "cell_type": "markdown",
   "id": "5436c063",
   "metadata": {},
   "source": [
    "## 2. Data input"
   ]
  },
  {
   "cell_type": "markdown",
   "id": "48d37036",
   "metadata": {},
   "source": [
    "Input paths and parameters. Find input file paths using find_files(). Note that the current code assumes that the input time-series data is stored in a csv, and ends with \"signals.csv\", the ROA mask is stored as a tiff file with keyword \"ROA\", and similarly the cell mask is a tiff file with keyword \"cell\". \n",
    "\n",
    "You can also directly input the paths. "
   ]
  },
  {
   "cell_type": "code",
   "execution_count": null,
   "id": "b73b5735",
   "metadata": {},
   "outputs": [],
   "source": [
    "# input input and output directories\n",
    "input_dir = input('Enter the path to the folder containing the input files: ')\n",
    "output_dir = input('Enter the path to the folder containing the output files: ')\n",
    "\n",
    "# input metadata related to the experiment\n",
    "keyword = input('Enter the common keyword in input file (csv, ROA mask and cell mask) names: ')\n",
    "drug_frame = float(input('Enter the frame number of drug application (enter 0 if no drug was applied): '))\n",
    "frame_rate = float(input(\"Enter the frame rate (in Hz) of the recording (e.g. 1): \"))\n",
    "spatial_resolution = float(input('Enter the spatial resolution of the recording (in µm/pixel, if one pixel size is 0.884 x 0.884 µm^2, enter 0.884): '))\n",
    "output_filename = input('Enter the output file name: ')\n",
    "output_path = os.path.join(output_dir, output_filename)\n",
    "\n",
    "# find the input files using find_files function\n",
    "csv_path, ROA_mask_path, cell_mask_path = find_files(input_dir, keyword)"
   ]
  },
  {
   "cell_type": "markdown",
   "id": "c72caff0",
   "metadata": {},
   "source": [
    "Next, read in ROA mask and cell mask. "
   ]
  },
  {
   "cell_type": "code",
   "execution_count": null,
   "id": "83384fe8",
   "metadata": {
    "scrolled": true
   },
   "outputs": [],
   "source": [
    "ROA_map_array, ROA_map_labeled, ROA_map_count = read_tif(ROA_mask_path, \"ROA\")\n",
    "cell_map_array, cell_map_labeled, cell_count = read_tif(cell_mask_path, \"cell\")\n",
    "\n",
    "visualize_map(ROA_map_array = ROA_map_array)"
   ]
  },
  {
   "cell_type": "markdown",
   "id": "3b2daed9",
   "metadata": {},
   "source": [
    "## 3. Signal preprocessing"
   ]
  },
  {
   "cell_type": "code",
   "execution_count": null,
   "id": "1791abf7",
   "metadata": {
    "scrolled": true
   },
   "outputs": [],
   "source": [
    "# Smooth traces using a filter\n",
    "raw_traces, filtered_traces = raw_to_filtered(csv_path)"
   ]
  },
  {
   "cell_type": "code",
   "execution_count": null,
   "id": "108f11cc",
   "metadata": {
    "scrolled": true
   },
   "outputs": [],
   "source": [
    "ROA_count, frame_count = check_traces(filtered_traces)"
   ]
  },
  {
   "cell_type": "markdown",
   "id": "2b4f535a",
   "metadata": {},
   "source": [
    "### Optinal: Signal correction using linear regression"
   ]
  },
  {
   "cell_type": "markdown",
   "id": "b1792bf4",
   "metadata": {},
   "source": [
    "This optional step uses the correct_shift() function to detect and correct gradual linear drift in the traces. Ideally, the slope distribution histogram should roughly center around zero. If the distribution is not centered around zero, it might indicate photobleaching or a significant z drift during the recording. "
   ]
  },
  {
   "cell_type": "code",
   "execution_count": null,
   "id": "8de70f10",
   "metadata": {
    "scrolled": true
   },
   "outputs": [],
   "source": [
    "# optional: correct traces for shift using linear regression\n",
    "corrected_traces, reg = correct_shift(filtered_traces)"
   ]
  },
  {
   "cell_type": "markdown",
   "id": "42ca12f9",
   "metadata": {},
   "source": [
    "## 4. Baseline determination and signal detection"
   ]
  },
  {
   "cell_type": "code",
   "execution_count": null,
   "id": "247494e9",
   "metadata": {},
   "outputs": [],
   "source": [
    "help(iterative_baseline)"
   ]
  },
  {
   "cell_type": "code",
   "execution_count": null,
   "id": "341c9ae2",
   "metadata": {},
   "outputs": [],
   "source": [
    "# baseline determination\n",
    "dff_traces, baselines, thresholds, signal_frames, signal_boundaries, signal_threshold = iterative_baseline(corrected_traces)"
   ]
  },
  {
   "cell_type": "markdown",
   "id": "6b0c2550",
   "metadata": {},
   "source": [
    "## Checkpoint 1: dF/F traces heatmap"
   ]
  },
  {
   "cell_type": "markdown",
   "id": "d0f78d8f",
   "metadata": {},
   "source": [
    "Visualze dF/F traces using heatmap. Each row represents one ROA and each column represents one frame.  \n",
    "\n",
    "Note that for heatmap coloring, *vmin* is set at 0, and *vmax* is set at (signal_threshold + 2) * average thresholds across all ROAs. For example, if the signal_threshold is set at 3SD, any transients that has a dF/F value above baseline + 5SD will be colored red to facilitate visualization. You can adjust the vmax parameter if needed. "
   ]
  },
  {
   "cell_type": "code",
   "execution_count": null,
   "id": "a77393b2",
   "metadata": {},
   "outputs": [],
   "source": [
    "sns.heatmap(dff_traces, vmin = 0, vmax = (signal_threshold + 2) * thresholds.mean(), \n",
    "            xticklabels=100, yticklabels= False, cmap = 'jet', square = True);"
   ]
  },
  {
   "cell_type": "markdown",
   "id": "4d1b8be0",
   "metadata": {},
   "source": [
    "## 5. Signal feature extraction"
   ]
  },
  {
   "cell_type": "code",
   "execution_count": null,
   "id": "347ac201",
   "metadata": {
    "scrolled": true
   },
   "outputs": [],
   "source": [
    "signal_stats = analyze_signal(dff_traces, signal_frames, signal_boundaries, frame_rate, drug_frame)"
   ]
  },
  {
   "cell_type": "code",
   "execution_count": null,
   "id": "ff8cf5f4",
   "metadata": {
    "scrolled": true
   },
   "outputs": [],
   "source": [
    "signal_stats.head()"
   ]
  },
  {
   "cell_type": "markdown",
   "id": "60671e78",
   "metadata": {},
   "source": [
    "## 6. ROA and cell assignment"
   ]
  },
  {
   "cell_type": "code",
   "execution_count": null,
   "id": "0e6bdecc",
   "metadata": {
    "scrolled": true
   },
   "outputs": [],
   "source": [
    "# add corresponding cell ID to the signal stats\n",
    "df_ROA_cell = align_ROA_cell(ROA_map_labeled, cell_map_labeled, ROA_map_count, spatial_resolution)\n",
    "signal_stats = pd.merge(df_ROA_cell, signal_stats, on = 'ROA_ID', how = 'right')"
   ]
  },
  {
   "cell_type": "code",
   "execution_count": null,
   "id": "7e169d28",
   "metadata": {
    "scrolled": true
   },
   "outputs": [],
   "source": [
    "signal_stats.head(10)"
   ]
  },
  {
   "cell_type": "markdown",
   "id": "deee148a",
   "metadata": {},
   "source": [
    "### ROA based analysis"
   ]
  },
  {
   "cell_type": "markdown",
   "id": "f5192908",
   "metadata": {},
   "source": [
    "Note that ROAs that do not have any cell assignment is listed as cell 0 for cell ID. "
   ]
  },
  {
   "cell_type": "code",
   "execution_count": null,
   "id": "bb48fbb1",
   "metadata": {
    "scrolled": true
   },
   "outputs": [],
   "source": [
    "ROA_based, df_ROA_cell = ROA_analysis(signal_stats, df_ROA_cell, frame_count, frame_rate, drug_frame)"
   ]
  },
  {
   "cell_type": "code",
   "execution_count": null,
   "id": "c4b13ac0",
   "metadata": {},
   "outputs": [],
   "source": [
    "ROA_based.head()"
   ]
  },
  {
   "cell_type": "markdown",
   "id": "57d7fccb",
   "metadata": {},
   "source": [
    "### Cell based analysis"
   ]
  },
  {
   "cell_type": "markdown",
   "id": "0d8f94b4",
   "metadata": {},
   "source": [
    "Note that ROAs that do not have any cell assignment is listed as cell 0 for cell ID. This cell should be omitted in later analysis. "
   ]
  },
  {
   "cell_type": "code",
   "execution_count": null,
   "id": "2c780003",
   "metadata": {},
   "outputs": [],
   "source": [
    "cell_based = cell_analysis(signal_stats, df_ROA_cell)"
   ]
  },
  {
   "cell_type": "code",
   "execution_count": null,
   "id": "0cbbf40d",
   "metadata": {},
   "outputs": [],
   "source": [
    "cell_based.head()"
   ]
  },
  {
   "cell_type": "markdown",
   "id": "139c079d",
   "metadata": {},
   "source": [
    "## Checkpoint 2: ROA stats"
   ]
  },
  {
   "cell_type": "code",
   "execution_count": null,
   "id": "ce293ea9",
   "metadata": {},
   "outputs": [],
   "source": [
    "sns.histplot(data = ROA_based, x = 'frequency_permin');"
   ]
  },
  {
   "cell_type": "code",
   "execution_count": null,
   "id": "8d908493",
   "metadata": {
    "scrolled": true
   },
   "outputs": [],
   "source": [
    "ROA_summary = df_ROA_cell.groupby('ROA_type').count()\n",
    "ROA_summary"
   ]
  },
  {
   "cell_type": "markdown",
   "id": "71b61277",
   "metadata": {},
   "source": [
    "## Checkpoint 3: Individual traces\n",
    "Use the inspect_trace() function to visualize traces. "
   ]
  },
  {
   "cell_type": "markdown",
   "id": "b928d4ff",
   "metadata": {},
   "source": [
    "### Visualize inactive ROAs\n",
    "The following example checks all ROAs that are \"inactive\" based on our pipeline but was intially determined as active ROA by AQuA. "
   ]
  },
  {
   "cell_type": "code",
   "execution_count": null,
   "id": "72613b5a",
   "metadata": {},
   "outputs": [],
   "source": [
    "inactive_ROAs = df_ROA_cell[df_ROA_cell['ROA_type'] == 'inactive']['ROA_ID'].to_list()\n",
    "inspect_trace(inactive_ROAs, dff_traces, baselines, thresholds, drug_frame)"
   ]
  },
  {
   "cell_type": "markdown",
   "id": "9d80bb77",
   "metadata": {},
   "source": [
    "### Visualize ROAs with large slope during optional correction"
   ]
  },
  {
   "cell_type": "code",
   "execution_count": null,
   "id": "2c042052",
   "metadata": {},
   "outputs": [],
   "source": [
    "check_ROAs = pull_largeslope_traces(ROA_count, reg)\n",
    "inspect_trace(check_ROAs, dff_traces, baselines, thresholds, drug_frame)"
   ]
  },
  {
   "cell_type": "markdown",
   "id": "058e8af1",
   "metadata": {},
   "source": [
    "### Visualize a few randomly selected ROAs"
   ]
  },
  {
   "cell_type": "code",
   "execution_count": null,
   "id": "5e18c341",
   "metadata": {},
   "outputs": [],
   "source": [
    "random_ROAs = np.random.choice(ROA_count, 10)\n",
    "random_ROAs.sort()\n",
    "inspect_trace(random_ROAs, dff_traces, baselines, thresholds, drug_frame)"
   ]
  },
  {
   "cell_type": "markdown",
   "id": "e215ce38",
   "metadata": {},
   "source": [
    "## 7. Data output"
   ]
  },
  {
   "cell_type": "code",
   "execution_count": null,
   "id": "71a61343",
   "metadata": {},
   "outputs": [],
   "source": [
    "metadata = metadata_todf()\n",
    "output_data(save_as = 'csv')"
   ]
  }
 ],
 "metadata": {
  "kernelspec": {
   "display_name": "Python 3 (ipykernel)",
   "language": "python",
   "name": "python3"
  },
  "language_info": {
   "codemirror_mode": {
    "name": "ipython",
    "version": 3
   },
   "file_extension": ".py",
   "mimetype": "text/x-python",
   "name": "python",
   "nbconvert_exporter": "python",
   "pygments_lexer": "ipython3",
   "version": "3.12.2"
  }
 },
 "nbformat": 4,
 "nbformat_minor": 5
}
