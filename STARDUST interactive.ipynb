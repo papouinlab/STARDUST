{
 "cells": [
  {
   "cell_type": "markdown",
   "id": "0e99a3af",
   "metadata": {},
   "source": [
    "# STARDUST interactive"
   ]
  },
  {
   "cell_type": "markdown",
   "id": "5fbf5599",
   "metadata": {},
   "source": [
    "This Jupyter Notebook provides an interactive version of STARDUST signal extraction. Functions are defined and imported from util.py. Use help() to see the documentation. For a more detailed description of the STARDUST pipeline, please see the biorxiv paper and github page for more information. "
   ]
  },
  {
   "cell_type": "markdown",
   "id": "99772211",
   "metadata": {},
   "source": [
    "## 1. Environment set up"
   ]
  },
  {
   "cell_type": "code",
   "execution_count": null,
   "id": "8e6ada0b",
   "metadata": {
    "scrolled": true
   },
   "outputs": [],
   "source": [
    "import pandas as pd, numpy as np, seaborn as sns\n",
    "from src.STARDUST.util import * "
   ]
  },
  {
   "cell_type": "markdown",
   "id": "5436c063",
   "metadata": {},
   "source": [
    "## 2. Data input"
   ]
  },
  {
   "cell_type": "markdown",
   "id": "48d37036",
   "metadata": {},
   "source": [
    "Run the next code block to read in input files and information of the experiment. Enter the information accordingly in the prompted text boxes. "
   ]
  },
  {
   "cell_type": "code",
   "execution_count": null,
   "id": "f3ec5723",
   "metadata": {},
   "outputs": [],
   "source": [
    "time_series_path, ROA_mask_path, cell_mask_path, output_path = prompt_input()\n",
    "drug_frame, frame_rate, spatial_resolution = get_metadata()"
   ]
  },
  {
   "cell_type": "markdown",
   "id": "c72caff0",
   "metadata": {},
   "source": [
    "Next, read in ROA mask and cell mask. "
   ]
  },
  {
   "cell_type": "code",
   "execution_count": null,
   "id": "83384fe8",
   "metadata": {
    "scrolled": true
   },
   "outputs": [],
   "source": [
    "ROA_map_array, ROA_map_labeled, ROA_map_count = read_tif(ROA_mask_path, \"ROA\")\n",
    "cell_map_array, cell_map_labeled, cell_count = read_tif(cell_mask_path, \"cell\")"
   ]
  },
  {
   "cell_type": "markdown",
   "id": "1872624f",
   "metadata": {},
   "source": [
    "Optional: visualize ROA and cell masks. "
   ]
  },
  {
   "cell_type": "code",
   "execution_count": null,
   "id": "e30f9a6c",
   "metadata": {},
   "outputs": [],
   "source": [
    "visualize_map(ROA_map_array = ROA_map_array, cell_map_array = cell_map_array)"
   ]
  },
  {
   "cell_type": "markdown",
   "id": "3b2daed9",
   "metadata": {},
   "source": [
    "## 3. Signal preprocessing"
   ]
  },
  {
   "cell_type": "code",
   "execution_count": null,
   "id": "1791abf7",
   "metadata": {
    "scrolled": true
   },
   "outputs": [],
   "source": [
    "# find raw traces and create filtered traces\n",
    "raw_traces, filtered_traces = raw_to_filtered(time_series_path, order = 4, cutoff = 0.4)"
   ]
  },
  {
   "cell_type": "code",
   "execution_count": null,
   "id": "108f11cc",
   "metadata": {
    "scrolled": true
   },
   "outputs": [],
   "source": [
    "ROA_count, frame_count = check_traces(filtered_traces)"
   ]
  },
  {
   "cell_type": "markdown",
   "id": "2b4f535a",
   "metadata": {},
   "source": [
    "### Optinal: Signal correction using linear regression"
   ]
  },
  {
   "cell_type": "markdown",
   "id": "b1792bf4",
   "metadata": {},
   "source": [
    "This optional step uses the correct_shift() function to detect and correct gradual linear drift in the traces. Ideally, the slope distribution histogram should roughly center around zero. If the distribution is not centered around zero, it might indicate photobleaching or a significant z drift during the recording. "
   ]
  },
  {
   "cell_type": "code",
   "execution_count": null,
   "id": "8de70f10",
   "metadata": {
    "scrolled": true
   },
   "outputs": [],
   "source": [
    "# optional: correct traces for shift using linear regression\n",
    "corrected_traces, reg = correct_shift(filtered_traces, correction_factor = 0.5)"
   ]
  },
  {
   "cell_type": "markdown",
   "id": "42ca12f9",
   "metadata": {},
   "source": [
    "## 4. Baseline determination and signal detection"
   ]
  },
  {
   "cell_type": "code",
   "execution_count": null,
   "id": "341c9ae2",
   "metadata": {},
   "outputs": [],
   "source": [
    "# baseline determination\n",
    "dff_traces, baselines, thresholds, signal_frames, signal_boundaries, signal_threshold = iterative_baseline(corrected_traces, \n",
    "                                                                                                           baseline_start = 0, \n",
    "                                                                                                           baseline_end = -1, \n",
    "                                                                                                           include_incomplete = False)"
   ]
  },
  {
   "cell_type": "markdown",
   "id": "6b0c2550",
   "metadata": {},
   "source": [
    "## Checkpoint 1: dF/F traces heatmap"
   ]
  },
  {
   "cell_type": "markdown",
   "id": "d0f78d8f",
   "metadata": {},
   "source": [
    "Visualze dF/F traces using heatmap. Each row represents one ROA and each column represents one frame.  \n",
    "\n",
    "Note that for heatmap coloring, *vmin* is set at 0, and *vmax* is set at (signal_threshold + 2) * average thresholds across all ROAs. For example, if the signal_threshold is set at 3SD, any transients that has a dF/F value above baseline + 5SD will be colored red to facilitate visualization. You can adjust the vmax parameter if needed. "
   ]
  },
  {
   "cell_type": "code",
   "execution_count": null,
   "id": "a77393b2",
   "metadata": {},
   "outputs": [],
   "source": [
    "sns.heatmap(dff_traces, vmin = 0, vmax = (signal_threshold + 2) * thresholds.mean(), \n",
    "            xticklabels=100, yticklabels= False, cmap = 'jet', square = True);"
   ]
  },
  {
   "cell_type": "markdown",
   "id": "4d1b8be0",
   "metadata": {},
   "source": [
    "## 5. Signal feature extraction"
   ]
  },
  {
   "cell_type": "code",
   "execution_count": null,
   "id": "347ac201",
   "metadata": {
    "scrolled": true
   },
   "outputs": [],
   "source": [
    "signal_features = analyze_signal(dff_traces, signal_frames, signal_boundaries, frame_rate, drug_frame)"
   ]
  },
  {
   "cell_type": "code",
   "execution_count": null,
   "id": "ff8cf5f4",
   "metadata": {
    "scrolled": true
   },
   "outputs": [],
   "source": [
    "signal_features.head()"
   ]
  },
  {
   "cell_type": "markdown",
   "id": "60671e78",
   "metadata": {},
   "source": [
    "## 6. ROA-based analysis"
   ]
  },
  {
   "cell_type": "code",
   "execution_count": null,
   "id": "0e6bdecc",
   "metadata": {
    "scrolled": true
   },
   "outputs": [],
   "source": [
    "# add corresponding cell ID to the signal stats\n",
    "df_ROA_cell = align_ROA_cell(ROA_map_labeled, cell_map_labeled, ROA_map_count, spatial_resolution)"
   ]
  },
  {
   "cell_type": "code",
   "execution_count": null,
   "id": "59766b11",
   "metadata": {},
   "outputs": [],
   "source": [
    "signal_features = pd.merge(df_ROA_cell, signal_features, on = 'ROA_ID', how = 'right')"
   ]
  },
  {
   "cell_type": "code",
   "execution_count": null,
   "id": "7e169d28",
   "metadata": {
    "scrolled": true
   },
   "outputs": [],
   "source": [
    "signal_features.head(10)"
   ]
  },
  {
   "cell_type": "markdown",
   "id": "deee148a",
   "metadata": {},
   "source": [
    "### ROA-based analysis"
   ]
  },
  {
   "cell_type": "markdown",
   "id": "f5192908",
   "metadata": {},
   "source": [
    "Note that ROAs that do not have any cell assignment is listed as cell 0 for cell ID. "
   ]
  },
  {
   "cell_type": "code",
   "execution_count": null,
   "id": "bb48fbb1",
   "metadata": {
    "scrolled": true
   },
   "outputs": [],
   "source": [
    "ROA_based, df_ROA_cell = ROA_analysis(signal_features, df_ROA_cell, frame_count, frame_rate, drug_frame)"
   ]
  },
  {
   "cell_type": "code",
   "execution_count": null,
   "id": "7337de90",
   "metadata": {},
   "outputs": [],
   "source": [
    "ROA_based.head()"
   ]
  },
  {
   "cell_type": "markdown",
   "id": "57d7fccb",
   "metadata": {},
   "source": [
    "### Cell-based averaging of ROA analysis"
   ]
  },
  {
   "cell_type": "markdown",
   "id": "0d8f94b4",
   "metadata": {},
   "source": [
    "Note that ROAs that do not have any cell assignment is listed as cell 0 for cell ID. This cell should be omitted in later analysis. "
   ]
  },
  {
   "cell_type": "code",
   "execution_count": null,
   "id": "2c780003",
   "metadata": {},
   "outputs": [],
   "source": [
    "cell_based = cell_analysis(signal_features, df_ROA_cell)"
   ]
  },
  {
   "cell_type": "code",
   "execution_count": null,
   "id": "0cbbf40d",
   "metadata": {},
   "outputs": [],
   "source": [
    "cell_based.head()"
   ]
  },
  {
   "cell_type": "markdown",
   "id": "139c079d",
   "metadata": {},
   "source": [
    "## Checkpoint 2: ROA type summary"
   ]
  },
  {
   "cell_type": "code",
   "execution_count": null,
   "id": "ca3c0ed5",
   "metadata": {},
   "outputs": [],
   "source": [
    "ROA_summary = ROA_type_summary(df_ROA_cell)\n",
    "ROA_summary"
   ]
  },
  {
   "cell_type": "markdown",
   "id": "71b61277",
   "metadata": {},
   "source": [
    "## Checkpoint 3: Individual traces\n",
    "Use the inspect_trace() function to visualize traces. "
   ]
  },
  {
   "cell_type": "markdown",
   "id": "b928d4ff",
   "metadata": {},
   "source": [
    "### Visualize inactive ROAs\n",
    "The following example checks all ROAs that are \"inactive\" based on our pipeline but was intially determined as active ROA by AQuA. "
   ]
  },
  {
   "cell_type": "code",
   "execution_count": null,
   "id": "72613b5a",
   "metadata": {},
   "outputs": [],
   "source": [
    "inactive_ROAs = df_ROA_cell[df_ROA_cell['ROA_type'] == 'inactive']['ROA_ID'].to_list()\n",
    "inspect_trace(inactive_ROAs, dff_traces, baselines, thresholds, drug_frame)"
   ]
  },
  {
   "cell_type": "markdown",
   "id": "9d80bb77",
   "metadata": {},
   "source": [
    "### Visualize ROAs with large slope during optional correction"
   ]
  },
  {
   "cell_type": "code",
   "execution_count": null,
   "id": "2c042052",
   "metadata": {},
   "outputs": [],
   "source": [
    "check_ROAs = pull_largeslope_traces(ROA_count, reg)\n",
    "inspect_trace(check_ROAs, dff_traces, baselines, thresholds, drug_frame)"
   ]
  },
  {
   "cell_type": "markdown",
   "id": "058e8af1",
   "metadata": {},
   "source": [
    "### Visualize a few randomly selected ROAs"
   ]
  },
  {
   "cell_type": "code",
   "execution_count": null,
   "id": "5e18c341",
   "metadata": {},
   "outputs": [],
   "source": [
    "random_ROAs = np.random.choice(ROA_count, 10)\n",
    "random_ROAs.sort()\n",
    "inspect_trace(random_ROAs, dff_traces, baselines, thresholds, drug_frame)"
   ]
  },
  {
   "cell_type": "markdown",
   "id": "e215ce38",
   "metadata": {},
   "source": [
    "## 7. Data output"
   ]
  },
  {
   "cell_type": "code",
   "execution_count": null,
   "id": "71a61343",
   "metadata": {},
   "outputs": [],
   "source": [
    "metadata = metadata_todf()\n",
    "output_data(save_as = 'csv')"
   ]
  }
 ],
 "metadata": {
  "kernelspec": {
   "display_name": "Python 3 (ipykernel)",
   "language": "python",
   "name": "python3"
  },
  "language_info": {
   "codemirror_mode": {
    "name": "ipython",
    "version": 3
   },
   "file_extension": ".py",
   "mimetype": "text/x-python",
   "name": "python",
   "nbconvert_exporter": "python",
   "pygments_lexer": "ipython3",
   "version": "3.12.2"
  }
 },
 "nbformat": 4,
 "nbformat_minor": 5
}
