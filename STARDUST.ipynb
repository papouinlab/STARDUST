{
 "cells": [
  {
   "cell_type": "markdown",
   "id": "0e99a3af",
   "metadata": {},
   "source": [
    "# STARDUST (full version)"
   ]
  },
  {
   "cell_type": "markdown",
   "id": "5fbf5599",
   "metadata": {},
   "source": [
    "This STARDUST interactive full version Jupyter Notebook allows for STARDUST signal determination and feature extraction. This version of analysis is ROA-based and contains cell segmentation. Functions are defined and imported from util.py. Use help(function_name) to see the documentation.  \n",
    "\n",
    "For a more detailed description of the STARDUST pipeline, please see the biorxiv paper and github page for more information. "
   ]
  },
  {
   "cell_type": "markdown",
   "id": "99772211",
   "metadata": {},
   "source": [
    "## 1. Environment set up"
   ]
  },
  {
   "cell_type": "markdown",
   "id": "e9ade8ff",
   "metadata": {},
   "source": [
    "Import necessary modules and functions for STARDUST analysis. "
   ]
  },
  {
   "cell_type": "code",
   "execution_count": null,
   "id": "8e6ada0b",
   "metadata": {
    "scrolled": true
   },
   "outputs": [],
   "source": [
    "import pandas as pd, numpy as np, seaborn as sns, scipy, matplotlib, PIL\n",
    "from src.STARDUST.util import * "
   ]
  },
  {
   "cell_type": "markdown",
   "id": "dcad53c0",
   "metadata": {},
   "source": [
    "Check module versions to make sure requirements are met for STARDUST. Version information for modules are specified in the Key Resource Table in the protocol. We recommend setting up a designated conda environment for the STARDUST to avoid module version conflicts. For more information on how to set up the environment, please refer to the protocol. "
   ]
  },
  {
   "cell_type": "code",
   "execution_count": null,
   "id": "0423532e",
   "metadata": {},
   "outputs": [],
   "source": [
    "check_modules()"
   ]
  },
  {
   "cell_type": "markdown",
   "id": "5436c063",
   "metadata": {},
   "source": [
    "## 2. Data input"
   ]
  },
  {
   "cell_type": "markdown",
   "id": "48d37036",
   "metadata": {},
   "source": [
    "Run the next code block to read in input files and information of the experiment. Enter the information accordingly in the prompted text boxes. "
   ]
  },
  {
   "cell_type": "code",
   "execution_count": null,
   "id": "f3ec5723",
   "metadata": {},
   "outputs": [],
   "source": [
    "time_series_path, ROA_mask_path, cell_mask_path, output_path = prompt_input()\n",
    "drug_frame, frame_rate, spatial_resolution = get_metadata()"
   ]
  },
  {
   "cell_type": "markdown",
   "id": "c72caff0",
   "metadata": {},
   "source": [
    "Next, read in ROA mask and cell mask. These two masks/maps are required for assigning ROAs to their corresponding cell. "
   ]
  },
  {
   "cell_type": "code",
   "execution_count": null,
   "id": "83384fe8",
   "metadata": {
    "scrolled": true
   },
   "outputs": [],
   "source": [
    "ROA_map_array, ROA_map_labeled, ROA_map_count = read_tif(ROA_mask_path, \"ROA\")\n",
    "cell_map_array, cell_map_labeled, cell_map_count = read_tif(cell_mask_path, \"cell\")"
   ]
  },
  {
   "cell_type": "markdown",
   "id": "1872624f",
   "metadata": {},
   "source": [
    "Optional: visualize ROA and cell masks. "
   ]
  },
  {
   "cell_type": "code",
   "execution_count": null,
   "id": "e30f9a6c",
   "metadata": {},
   "outputs": [],
   "source": [
    "visualize_map(ROA_map_array = ROA_map_array, cell_map_array = cell_map_array)"
   ]
  },
  {
   "cell_type": "markdown",
   "id": "3b2daed9",
   "metadata": {},
   "source": [
    "## 3. Signal preprocessing"
   ]
  },
  {
   "cell_type": "markdown",
   "id": "0426a17c",
   "metadata": {},
   "source": [
    "The next code block use raw_to_filtered() to extract raw traces from the input path and uses the Butterworth filter (4th order and 0.4Hz cutoff) to smooth out the signals. In our hands, filtering minimally impacts detection for true signals while lowering noise detection. "
   ]
  },
  {
   "cell_type": "code",
   "execution_count": null,
   "id": "1791abf7",
   "metadata": {
    "scrolled": true
   },
   "outputs": [],
   "source": [
    "# find raw traces and create filtered traces\n",
    "raw_traces, filtered_traces = raw_to_filtered(time_series_path, order = 4, cutoff = 0.4)"
   ]
  },
  {
   "cell_type": "markdown",
   "id": "960bb673",
   "metadata": {},
   "source": [
    "Check number of ROA and number of frames from the input traces. Either raw_traces and filtered_traces works for this step and should give the same results. "
   ]
  },
  {
   "cell_type": "code",
   "execution_count": null,
   "id": "108f11cc",
   "metadata": {
    "scrolled": true
   },
   "outputs": [],
   "source": [
    "ROA_count, frame_count = check_traces(filtered_traces)"
   ]
  },
  {
   "cell_type": "markdown",
   "id": "569a592a",
   "metadata": {},
   "source": [
    "Note that we proceed with the filtered_traces in the steps below. If wish to skip the filtering, change filtered_traces in the next code block to raw_traces."
   ]
  },
  {
   "cell_type": "markdown",
   "id": "2b4f535a",
   "metadata": {},
   "source": [
    "### Optinal: Signal correction using linear regression"
   ]
  },
  {
   "cell_type": "markdown",
   "id": "b1792bf4",
   "metadata": {},
   "source": [
    "This optional step uses the correct_shift() function to detect and correct gradual linear drift in the traces. Ideally, the slope distribution histogram should roughly center around zero for recordings if the calcium activity stays around baseline level or returns to baseline after pharmacological application. If the distribution is not centered around zero, it might indicate photobleaching or a significant z drift during the recording.  \n",
    "\n",
    "**DO NOT** use this correction if pharmacology application causes large increase or decrease of calcium signals. For example, 20uM norepinephrine (NE) bath application leads to a large, sustained increase of calcium signal intensity across the field of view when recording astrocyte GCaMP. Recording with such drug application should therefore not be corrected using this step. "
   ]
  },
  {
   "cell_type": "code",
   "execution_count": null,
   "id": "8de70f10",
   "metadata": {
    "scrolled": true
   },
   "outputs": [],
   "source": [
    "# optional: correct traces for shift using linear regression\n",
    "corrected_traces, reg = correct_shift(filtered_traces, correction_factor = 0.5)"
   ]
  },
  {
   "cell_type": "markdown",
   "id": "c5bd3f22",
   "metadata": {},
   "source": [
    "Note that we proceed with the corrected_traces in the following steps in this protocol. If the user do not wish to use the correction, change corrected_traces in the next block to filtered_traces or raw_traces."
   ]
  },
  {
   "cell_type": "markdown",
   "id": "42ca12f9",
   "metadata": {},
   "source": [
    "## 4. Baseline determination and signal detection"
   ]
  },
  {
   "cell_type": "markdown",
   "id": "227a615d",
   "metadata": {},
   "source": [
    "This step determines the baseline fluorescence level (F<sub>0</sub>) in each ROA through a three-step iteration process. Signals are then extracted after the final iteration. "
   ]
  },
  {
   "cell_type": "code",
   "execution_count": null,
   "id": "341c9ae2",
   "metadata": {},
   "outputs": [],
   "source": [
    "# baseline determination\n",
    "dff_traces, baselines, thresholds, signal_frames, signal_boundaries, signal_threshold = iterative_baseline(corrected_traces, \n",
    "                                                                                                           baseline_start = 0, \n",
    "                                                                                                           baseline_end = -1, \n",
    "                                                                                                           include_incomplete = False)"
   ]
  },
  {
   "cell_type": "markdown",
   "id": "6b0c2550",
   "metadata": {},
   "source": [
    "## Checkpoint 1: dF/F traces heatmap"
   ]
  },
  {
   "cell_type": "markdown",
   "id": "d0f78d8f",
   "metadata": {},
   "source": [
    "Visualze dF/F traces using heatmap. Each row represents one ROA and each column represents one frame.  \n",
    "\n",
    "Note that for heatmap coloring, *vmin* is set at 0, and *vmax* is set at (signal_threshold + 1) * average thresholds across all ROAs. For example, if the signal_threshold is set at 3SD, any transients that has a dF/F value above baseline + 4SD will be colored red to facilitate visualization. You can adjust the vmax parameter if needed. "
   ]
  },
  {
   "cell_type": "code",
   "execution_count": null,
   "id": "a77393b2",
   "metadata": {},
   "outputs": [],
   "source": [
    "sns.heatmap(dff_traces, vmin = 0, vmax = (signal_threshold + 1) * thresholds.mean(), \n",
    "            xticklabels = 100, yticklabels = False, cmap = 'jet', square = True);"
   ]
  },
  {
   "cell_type": "markdown",
   "id": "4d1b8be0",
   "metadata": {},
   "source": [
    "## 5. Signal feature extraction"
   ]
  },
  {
   "cell_type": "markdown",
   "id": "b118df41",
   "metadata": {},
   "source": [
    "This step extracts signal features such as peak amplitude, duration, frequency, etc. Running the next code cell generates a dataframe stored in signal_stats, with each row representing one active signal. The columns detail signal features listed in table 1 in the STARDUST protocol. Some of the features are shown in the illustration below.  "
   ]
  },
  {
   "attachments": {
    "image.png": {
     "image/png": "[encoded data removed]"
    }
   },
   "cell_type": "markdown",
   "id": "a56bebdf",
   "metadata": {},
   "source": [
    "![image.png](attachment:image.png)"
   ]
  },
  {
   "cell_type": "code",
   "execution_count": null,
   "id": "347ac201",
   "metadata": {
    "scrolled": true
   },
   "outputs": [],
   "source": [
    "signal_features = analyze_signal(dff_traces, signal_frames, signal_boundaries, frame_rate, drug_frame)"
   ]
  },
  {
   "cell_type": "code",
   "execution_count": null,
   "id": "ff8cf5f4",
   "metadata": {
    "scrolled": true
   },
   "outputs": [],
   "source": [
    "signal_features.head()"
   ]
  },
  {
   "cell_type": "markdown",
   "id": "60671e78",
   "metadata": {},
   "source": [
    "## 6. ROA-based analysis"
   ]
  },
  {
   "cell_type": "markdown",
   "id": "b01dd93c",
   "metadata": {},
   "source": [
    "### Add cell ID to each ROA"
   ]
  },
  {
   "cell_type": "markdown",
   "id": "f947fa05",
   "metadata": {},
   "source": [
    "The next code chunk aligns the cell mask and the ROA mask to assign ROAs to their corresponding cells. Note that ROAs that do not have any cell assignment is listed as cell 0 for cell ID. \n",
    "\n",
    "This step also extracts ROA size information in number of pixels and um<sup>2</sup>. Note that if the recording was motion corrected using a non rigid motion correction algorithm (such as NoRMCorre), the size estimation might be affected. "
   ]
  },
  {
   "cell_type": "code",
   "execution_count": null,
   "id": "0e6bdecc",
   "metadata": {
    "scrolled": true
   },
   "outputs": [],
   "source": [
    "# add corresponding cell ID to the signal stats\n",
    "ROA_info = align_ROA_cell(ROA_map_labeled, cell_map_labeled, ROA_map_count, spatial_resolution)"
   ]
  },
  {
   "cell_type": "markdown",
   "id": "ecb4737e",
   "metadata": {},
   "source": [
    "Then, update the signal_features dataframe to add cell ID information to each signal detected according to their ROA ID. "
   ]
  },
  {
   "cell_type": "code",
   "execution_count": null,
   "id": "59766b11",
   "metadata": {},
   "outputs": [],
   "source": [
    "signal_features = pd.merge(ROA_info, signal_features, on = 'ROA_ID', how = 'right')"
   ]
  },
  {
   "cell_type": "code",
   "execution_count": null,
   "id": "7e169d28",
   "metadata": {
    "scrolled": true
   },
   "outputs": [],
   "source": [
    "signal_features.head()"
   ]
  },
  {
   "cell_type": "markdown",
   "id": "deee148a",
   "metadata": {},
   "source": [
    "### ROA-based analysis"
   ]
  },
  {
   "cell_type": "markdown",
   "id": "f5192908",
   "metadata": {},
   "source": [
    "The next code chunk performs ROA-based analysis to calculate average amplitude, AUC, signal to noise ratio, rise time, decay time, half width, duration, inter-event interval, total signal count and frequency (per minute) for each ROA during each epoch. "
   ]
  },
  {
   "cell_type": "code",
   "execution_count": null,
   "id": "bb48fbb1",
   "metadata": {
    "scrolled": true
   },
   "outputs": [],
   "source": [
    "ROA_based, ROA_info = ROA_analysis(signal_features, ROA_info, frame_count, frame_rate, drug_frame, cell_segmentation = True)"
   ]
  },
  {
   "cell_type": "code",
   "execution_count": null,
   "id": "7337de90",
   "metadata": {},
   "outputs": [],
   "source": [
    "ROA_based.head()"
   ]
  },
  {
   "cell_type": "markdown",
   "id": "57d7fccb",
   "metadata": {},
   "source": [
    "## 7. Cell-assignd ROA-based analysis"
   ]
  },
  {
   "cell_type": "markdown",
   "id": "0d8f94b4",
   "metadata": {},
   "source": [
    "The next code chunk performs cell-assigned ROA-based analysis to extract average signal features from all ROAs within a cell.  \n",
    "\n",
    "Again, as noted before, ROAs that do not have any cell assignment are listed as cell 0 for cell ID. This cell should be omitted in later analysis. "
   ]
  },
  {
   "cell_type": "code",
   "execution_count": null,
   "id": "2c780003",
   "metadata": {},
   "outputs": [],
   "source": [
    "cell_assigned = cell_analysis(signal_features, ROA_info)"
   ]
  },
  {
   "cell_type": "code",
   "execution_count": null,
   "id": "0cbbf40d",
   "metadata": {},
   "outputs": [],
   "source": [
    "cell_assigned.head()"
   ]
  },
  {
   "cell_type": "markdown",
   "id": "139c079d",
   "metadata": {},
   "source": [
    "## Checkpoint 2: ROA type summary"
   ]
  },
  {
   "cell_type": "markdown",
   "id": "91368b6a",
   "metadata": {},
   "source": [
    "The next code chunk summarizes type of ROA based on pharmacology application and activity. Each ROA is categorized into \"inactive\", \"stable\", \"on\", or \"off\" ROAs. For recordings where no pharmacology was applied, the ROA type is listed as \"NA\" for all ROAs. "
   ]
  },
  {
   "cell_type": "code",
   "execution_count": null,
   "id": "ca3c0ed5",
   "metadata": {},
   "outputs": [],
   "source": [
    "ROA_summary = ROA_type_summary(ROA_info)\n",
    "ROA_summary"
   ]
  },
  {
   "cell_type": "markdown",
   "id": "71b61277",
   "metadata": {},
   "source": [
    "## Checkpoint 3: Individual traces\n",
    "Use the inspect_trace() function to visualize traces. "
   ]
  },
  {
   "cell_type": "markdown",
   "id": "b928d4ff",
   "metadata": {},
   "source": [
    "### Visualize inactive ROAs\n",
    "The following example checks all ROAs that are \"inactive\" based on our pipeline but was intially determined as active ROA by AQuA. "
   ]
  },
  {
   "cell_type": "code",
   "execution_count": null,
   "id": "72613b5a",
   "metadata": {},
   "outputs": [],
   "source": [
    "inactive_ROAs = ROA_info[ROA_info['ROA_type'] == 'inactive']['ROA_ID'].to_list()\n",
    "inspect_trace(inactive_ROAs, dff_traces, baselines, thresholds, drug_frame)"
   ]
  },
  {
   "cell_type": "markdown",
   "id": "058e8af1",
   "metadata": {},
   "source": [
    "### Visualize a few randomly selected ROAs\n",
    "\n",
    "The following example randomly pick 10 ROAs and displays their traces. "
   ]
  },
  {
   "cell_type": "code",
   "execution_count": null,
   "id": "5e18c341",
   "metadata": {},
   "outputs": [],
   "source": [
    "random_ROAs = np.random.choice(ROA_count, 10)\n",
    "random_ROAs.sort()\n",
    "inspect_trace(random_ROAs, dff_traces, baselines, thresholds, drug_frame)"
   ]
  },
  {
   "cell_type": "markdown",
   "id": "e215ce38",
   "metadata": {},
   "source": [
    "## 8. Data output\n",
    "\n",
    "Export data from STARDUST pipeline. "
   ]
  },
  {
   "cell_type": "code",
   "execution_count": null,
   "id": "585bf221",
   "metadata": {},
   "outputs": [],
   "source": [
    "metadata = pd.DataFrame({'frame_rate': [frame_rate], 'spatial_resolution': [spatial_resolution],\n",
    "                        'drug_frame': [drug_frame], 'drug_time': [drug_frame/frame_rate], \n",
    "                        'signal_threshold': [signal_threshold]})\n",
    "output_data(output_path, metadata, dff_traces, signal_features, save_as = 'csv',\n",
    "            ROA_based = ROA_based, cell_assigned = cell_assigned, ROA_summary = ROA_summary)"
   ]
  }
 ],
 "metadata": {
  "kernelspec": {
   "display_name": "Python 3 (ipykernel)",
   "language": "python",
   "name": "python3"
  },
  "language_info": {
   "codemirror_mode": {
    "name": "ipython",
    "version": 3
   },
   "file_extension": ".py",
   "mimetype": "text/x-python",
   "name": "python",
   "nbconvert_exporter": "python",
   "pygments_lexer": "ipython3",
   "version": "3.12.2"
  }
 },
 "nbformat": 4,
 "nbformat_minor": 5
}
