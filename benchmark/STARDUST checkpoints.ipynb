{
 "cells": [
  {
   "cell_type": "code",
   "execution_count": null,
   "metadata": {},
   "outputs": [],
   "source": [
    "#csv_path = '/Users/mikodai/Desktop/Papouin lab/Projects/Calcium STARDUST/STARDUST pipeline/input files/0802_Slice3_TTX.csv'\n",
    "# csv_path = '/Users/mikodai/Desktop/Papouin lab/Projects/Calcium STARDUST/STARDUST pipeline/input files/20230101_test_Example_recording.csv'\n",
    "#csv_path = '/Users/mikodai/Desktop/Papouin lab/Projects/Calcium STARDUST/STARDUST pipeline/input files/02142023_Slice1_TTX_PNU.csv'\n",
    "\n",
    "sns.histplot(reg.slope).set(title = 'Slope distribution histogram')\n",
    "plt.savefig(os.path.join(output_dir, 'example_slope_hist.svg'))"
   ]
  }
 ],
 "metadata": {
  "kernelspec": {
   "display_name": ".venv",
   "language": "python",
   "name": "python3"
  },
  "language_info": {
   "name": "python",
   "version": "3.12.2"
  }
 },
 "nbformat": 4,
 "nbformat_minor": 2
}
